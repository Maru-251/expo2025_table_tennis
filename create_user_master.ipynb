{
 "cells": [
  {
   "cell_type": "code",
   "execution_count": 2,
   "id": "f4b7dde2",
   "metadata": {},
   "outputs": [
    {
     "name": "stdout",
     "output_type": "stream",
     "text": [
      "users テーブルを users.db に保存しました。\n"
     ]
    }
   ],
   "source": [
    "import pandas as pd\n",
    "import sqlite3\n",
    "\n",
    "# ユーザーデータをDataFrameで作成（例）\n",
    "data = {\n",
    "    'user_id': [1, 2, 3, 4, 5],\n",
    "    'username': ['kazuhito', 'masashi', 'kotaro', 'tomoaki', 'toshiki'],\n",
    "    'hashed_password': ['12345', '12345', '12345', '12345', '12345'],  # 本来はハッシュ化されたパスワード\n",
    "}\n",
    "df = pd.DataFrame(data)\n",
    "\n",
    "# SQLiteの.dbファイルに保存\n",
    "db_name = 'users.db'\n",
    "table_name = 'users'\n",
    "\n",
    "# SQLiteに接続してDataFrameをテーブルとして保存\n",
    "with sqlite3.connect(db_name) as conn:\n",
    "    df.to_sql(table_name, conn, if_exists='replace', index=False)\n",
    "\n",
    "print(f\"{table_name} テーブルを {db_name} に保存しました。\")\n"
   ]
  },
  {
   "cell_type": "code",
   "execution_count": null,
   "id": "e977b8b5",
   "metadata": {},
   "outputs": [],
   "source": []
  }
 ],
 "metadata": {
  "kernelspec": {
   "display_name": "expo-env",
   "language": "python",
   "name": "python3"
  },
  "language_info": {
   "codemirror_mode": {
    "name": "ipython",
    "version": 3
   },
   "file_extension": ".py",
   "mimetype": "text/x-python",
   "name": "python",
   "nbconvert_exporter": "python",
   "pygments_lexer": "ipython3",
   "version": "3.11.2"
  }
 },
 "nbformat": 4,
 "nbformat_minor": 5
}
